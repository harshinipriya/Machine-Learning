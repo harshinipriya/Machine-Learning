{
 "cells": [
  {
   "cell_type": "markdown",
   "metadata": {},
   "source": [
    "# Learning Theory Homework \n",
    "***\n",
    "**Name**: $<$Harshini Priya Muthukrishnan$>$ \n",
    "***\n",
    "\n",
    "This assignment is due on Moodle by **5pm on Friday March 9th**. Submit only this Jupyter notebook to Moodle. Do not compress it using tar, rar, zip, etc. Your solutions to analysis questions should be done in Markdown directly below the associated question.  Remember that you are encouraged to discuss the problems with your instructors and classmates, but **you must write all code and solutions on your own**.  For a refresher on the course **Collaboration Policy** click [here](https://github.com/chrisketelsen/CSCI5622-Machine-Learning/blob/master/resources/syllabus.md#collaboration-policy)\n",
    "\n"
   ]
  },
  {
   "cell_type": "markdown",
   "metadata": {},
   "source": [
    "## Overview \n",
    "***\n",
    "\n",
    "In this assignment you will explore the concepts of PAC learnability and VC dimension. \n"
   ]
  },
  {
   "cell_type": "code",
   "execution_count": 371,
   "metadata": {},
   "outputs": [],
   "source": [
    "import random\n",
    "import math\n",
    "import numpy as np\n",
    "import matplotlib.pylab as plt\n",
    "%matplotlib inline"
   ]
  },
  {
   "cell_type": "markdown",
   "metadata": {},
   "source": [
    "### [15 points] Problem 1: \n",
    "***\n",
    "\n",
    "Consider the class C of concepts defined by triangles with **distinct** vertices of the form $(i, j)$ where $i$ and $j$ are integers in the interval $[0,99]$. A concept c labels points on the interior and boundary of the associated triangle as positive and points exterior to the triangle as negative.\n",
    "\n",
    "**Note**: To make life easier, we'll allow degenerate triangles in $C$. That is, triangles where the vertices are collinear. The following image depicts an example of a nondegenerate and a degenerate triangle."
   ]
  },
  {
   "cell_type": "markdown",
   "metadata": {},
   "source": [
    "<img src=\"figs/triangles.png\" width=400 height=50>  "
   ]
  },
  {
   "cell_type": "markdown",
   "metadata": {},
   "source": [
    "**Part A**: Suppose we have an algorithm that produces a consistent $h$ from the hypothesis class $H = C$. Give a bound on the number of training examples sufficient to assure that for any target concept $c$ in $C$, our algorithm will, with probability $1-\\delta$, output a hypothesis $h$ with generalization error at most $\\epsilon$."
   ]
  },
  {
   "cell_type": "markdown",
   "metadata": {
    "collapsed": true
   },
   "source": [
    "**Answer**\n",
    "\n",
    "The bound on the number of training examples is given by:\n",
    "$$\n",
    "m >=\\frac{1}{\\epsilon} (\\ln{|H|}+\\ln\\frac{1}{\\delta}) \n",
    "$$\n",
    "The cardinality of H is found by using any of the three points from a combination of (100*100)C3 points.\n",
    "$$m >=\\frac{1}{\\epsilon} (\\ln\\frac{10000!}{9997!*3!}+\\ln\\frac{1}{\\delta})\\\\\n",
    "m >= \\frac{1}{\\epsilon} ({25.839}+\\ln\\frac{1}{\\delta})\n",
    "$$"
   ]
  },
  {
   "cell_type": "markdown",
   "metadata": {},
   "source": [
    "**Part B**: Based on your bound in **Part A**, determine the minimum number of training examples necessary such that for any target concept $c$ in $C$, our algorithm will, with probability $0.95$, output a hypothesis $h$ with generalization error at most $0.15$.  "
   ]
  },
  {
   "cell_type": "markdown",
   "metadata": {
    "collapsed": true
   },
   "source": [
    "** Answer **\n",
    "  \n",
    "Error, $\\epsilon$ = 0.15  \n",
    "  \n",
    "Confidence, $\\delta$ = 1-0.95=0.05  \n",
    "\n",
    "We know the bound m as,  \n",
    "$$  \n",
    "$m>=\\frac{1}{\\epsilon}(ln|H|+ln\\frac{1}{\\delta})$  \n",
    "$$  \n",
    "Using the formula we derived in the previous part,\n",
    "$$\n",
    "$m>=\\frac{1}{0.15}(25.839 +ln\\frac{1}{0.05})$  \n",
    "$$\n",
    "$$\n",
    "$m>=\\frac{1}{0.15}(28.834)$  \n",
    "$$\n",
    "$$\n",
    "m>=192.2266  \n",
    "$$\n",
    "$$\n",
    "m=193  \n",
    "$$"
   ]
  },
  {
   "cell_type": "markdown",
   "metadata": {},
   "source": [
    "### [15 points] Problem 2: \n",
    "***\n",
    "\n",
    "Consider feature vectors that live in two-dimensional space and the class of hypotheses defined by circles **centered at the origin**. There are two different kinds of hypotheses $h$ in this class. One type of hypothesis classifies points as positive if they lie on the boundary or **interior** of the circle, and negative otherwise. The other type of hypothesis classifies points as positive if they lie on the boundary or **exterior** of the circle, and negative otherwise. State and prove (rigorously) the VC dimension of this family of classifiers."
   ]
  },
  {
   "cell_type": "markdown",
   "metadata": {
    "collapsed": true
   },
   "source": [
    "### Answer:\n",
    "**Hypothesis 1**\n",
    "Circle which will classify the **exterior points as positive** - points inside the circle are negative\n",
    "\n",
    "**Hypothesis 2**\n",
    "Circle which will classify the **interior points as positive** - points outside the circle are negative"
   ]
  },
  {
   "cell_type": "markdown",
   "metadata": {},
   "source": [
    "Iteratively starting from one point.\n",
    "Below code examines the case when m = 1\n",
    "\n",
    "In the graphs below, yellow indicates the area where the points are negative and green indicates the area where the points are positive"
   ]
  },
  {
   "cell_type": "code",
   "execution_count": 401,
   "metadata": {},
   "outputs": [
    {
     "data": {
      "image/png": "[encoded data removed]",
      "text/plain": [
       "<matplotlib.figure.Figure at 0x1204dfa20>"
      ]
     },
     "metadata": {},
     "output_type": "display_data"
    }
   ],
   "source": [
    "fig, axes = plt.subplots(nrows=1, ncols=2, figsize=(10,5))\n",
    "axes[0].fill([-5,-5,5,5],[-5,5,5,-5],\"g\", zorder=1,alpha=0.75)\n",
    "axes[0].add_patch(plt.Circle((0, 0), 1, color='yellow',alpha=0.5))\n",
    "axes[0].scatter([1],[1],marker='+',color='r',zorder=2)\n",
    "axes[0].set_title(\"Shattered by Hypothesis 1\")\n",
    "\n",
    "axes[1].fill([-5,-5,5,5],[-5,5,5,-5],\"g\", zorder=1,alpha=0.75)\n",
    "axes[1].add_patch(plt.Circle((0, 0), 2, color='yellow',alpha=0.5))\n",
    "axes[1].scatter([1],[1],marker='_',color='r',zorder=2)\n",
    "axes[1].set_title(\"Shattered by Hypothesis 1\")\n",
    "plt.show()"
   ]
  },
  {
   "cell_type": "markdown",
   "metadata": {},
   "source": [
    "From the above graph, it is clear that the lowest possible value for VC is atleast 1. So now we will iteratively go up the m value incrementing one by one. The below code constructs the graph for m=2 and consider all the possible cases of the value of the two points. That is the four possible combinations of positive and neative values for the two points are plotted"
   ]
  },
  {
   "cell_type": "code",
   "execution_count": 373,
   "metadata": {},
   "outputs": [
    {
     "data": {
      "image/png": "[encoded data removed]",
      "text/plain": [
       "<matplotlib.figure.Figure at 0x12258fc88>"
      ]
     },
     "metadata": {},
     "output_type": "display_data"
    }
   ],
   "source": [
    "fig, axes = plt.subplots(nrows=1, ncols=3, figsize=(20,5))\n",
    "axes[0].fill([-5,-5,5,5],[-5,5,5,-5], zorder=0,color='green',alpha=0.75)\n",
    "axes[0].add_patch(plt.Circle((0, 0), 1, color='yellow',alpha=0.5))\n",
    "axes[0].scatter([1,2],[1,2],c=\"r\",marker='+',zorder=2)\n",
    "axes[0].set_title(\"Shattered by Hypothesis 1\")\n",
    "\n",
    "axes[1].fill([-5,-5,5,5],[-5,5,5,-5], zorder=1,color='green',alpha=0.75)\n",
    "axes[1].add_patch(plt.Circle((0, 0), 2,color='yellow',alpha=0.5))\n",
    "axes[1].scatter([1],[1],marker='_',color='r',zorder=2)\n",
    "axes[1].scatter([2],[2],marker='+',color='r',zorder=2)\n",
    "axes[1].set_title(\"Shattered by Hypothesis 1\")\n",
    "\n",
    "\n",
    "axes[2].fill([-5,-5,5,5],[-5,5,5,-5], zorder=1,color='green',alpha=0.75)\n",
    "axes[2].add_patch(plt.Circle((0, 0), 3, color='yellow',alpha=0.5))\n",
    "axes[2].scatter([1,2],[1,2],marker='_',color='r',zorder=2)\n",
    "axes[2].set_title(\"Shattered by Hypothesis 1\")\n",
    "plt.show()\n"
   ]
  },
  {
   "cell_type": "markdown",
   "metadata": {},
   "source": [
    "The above are three combinations of two points. The fourth combination of +,- cannot be shattered by hypothesis1. So we check if it is shattered by hypothesis 2. The grapgh below demonstartes that"
   ]
  },
  {
   "cell_type": "code",
   "execution_count": 374,
   "metadata": {},
   "outputs": [
    {
     "data": {
      "image/png": "[encoded data removed]",
      "text/plain": [
       "<matplotlib.figure.Figure at 0x122dbd4a8>"
      ]
     },
     "metadata": {},
     "output_type": "display_data"
    }
   ],
   "source": [
    "fig, axes = plt.subplots(nrows=1, ncols=1, figsize=(5,5))\n",
    "axes.fill([-5,-5,5,5],[-5,5,5,-5], zorder=1,color='yellow',alpha=0.25)\n",
    "axes.add_patch(plt.Circle((0, 0), 2, color='green',alpha=0.75))\n",
    "axes.scatter([1],[1],marker='+',color='r',zorder=2)\n",
    "axes.scatter([2],[2],marker='_',color='r',zorder=2)\n",
    "axes.set_title(\"Shattered by Hypothesis 2\")\n",
    "plt.show()"
   ]
  },
  {
   "cell_type": "markdown",
   "metadata": {},
   "source": [
    "Hence lower bound for VCDim=2\n",
    "\n",
    "** Incrementing to 3 points**\n",
    "\n",
    "For let us consider any set of 3 points p1, p2 and p3.<br>\n",
    "Let p1 < p2 < p3.<br>\n",
    "<br>\n",
    "**Assumption**\n",
    " - p1 - negative\n",
    " - p2 - positive\n",
    " - p3 - negative\n",
    "<br>\n",
    "\n",
    "**Hypothesis 1<br><br>**\n",
    "Let the radius be r\n",
    "\n",
    "When r < p1 :<br>\n",
    "All three points get classified as positive but p1 and p3 are negative and hence it cannot be shattered<br>\n",
    "\n",
    "When p1 < r < p2 :<br>\n",
    "It will classify p3 incorrectly as positive and hence it cannot be shattered<br>\n",
    "\n",
    "When p2 < r < p3 :<br>\n",
    "It will classify p2 incorrectly as negative and hence it cannot be shattered<br>\n",
    "\n",
    "When r > p3 :<br>\n",
    "It will classify p2 incorrectly as negative and hence it cannot be shattered<br>\n",
    "\n",
    "\n",
    "**Hypothesis 2<br><br>**\n",
    "Let the radius be r\n",
    "\n",
    "When r < p1 :<br>\n",
    "All three points get classified as negative but p2 is positive and hence it cannot be shattered<br>\n",
    "\n",
    "When p1 < r < p2 :<br>\n",
    "It will classify p1 and p2 incorrectly and hence it cannot be shattered<br>\n",
    "\n",
    "When p2 < r < p3 :<br>\n",
    "It will classify p2 incorrectly as positive and hence it cannot be shattered<br>\n",
    "\n",
    "When r > p3 :<br>\n",
    "It will classify p1 and p3 incorrectly as positive and hence it cannot be shattered<br>\n",
    "\n",
    "\n",
    "Hence 3 points cannot be shattered by the 2 Hypotheses. \n",
    "\n",
    "Hence<br>\n",
    "Upper Bound for VCDim =3-1 =2\n",
    "\n",
    "**VCDim=2**"
   ]
  },
  {
   "cell_type": "markdown",
   "metadata": {},
   "source": [
    "### [20 points] Problem 3: Empirical Verification of PAC Bounds for Axis-Aligned Rectangles \n",
    "***\n",
    "\n",
    "In the in-class notebook associated with PAC Learnability, we proved a PAC bound for the class of concepts $C$ comprised of axis-aligned rectangles living in $\\mathbb{R}^2$ of the form $(a \\leq x \\leq b) \\wedge (c \\leq y \\leq d)$ where $a, b, c, d$ are real numbers. Specifically, we proved that with probability $1-\\delta$, any consistent learner could learn a hypothesis $h$ in $H = C$ with generalization error less than $\\epsilon$ provided that the number of training examples satisfied \n",
    "\n",
    "$$\n",
    "m > \\frac{4}{\\epsilon}\\log\\frac{4}{\\delta}\n",
    "$$\n",
    "\n",
    "In this problem you will empirically verify this bound for the restricted concept class $C$ where the rectangles are defined by $(a \\leq x \\leq b) \\wedge (c \\leq y \\leq d)$ where $a, b, c, d$ are real numbers satisfying $0 \\leq a \\leq b \\leq 100$ and $0 \\leq c \\leq d \\leq 100$. \n",
    "\n",
    "**Part A**: The following is a general outline of how you should accomplish this, but it is up to you how you organize your code. "
   ]
  },
  {
   "cell_type": "markdown",
   "metadata": {},
   "source": [
    "- Write some code that randomly generates a concept rectangle $c$. \n",
    "\n",
    "\n",
    "\n",
    "- Write some code that, given feature vectors of length-2, labels them according to some rectangle (that is, labels a point positive if the point is on the boundary or interior of the rectangle, and negative otherwise).  \n",
    "\n",
    "\n",
    "\n",
    "- Write some code that, given training examples of length-2, and labeled according to a concept $c$, returns a consistent hypothesis rectangle $h$. \n",
    "\n",
    "\n",
    "\n",
    "- Write some code that generates a training set of size $m$, labels them according to a random concept $c$, learns a consistent hypothesis $h$, and then approximates the generalization error by predicting on $1000$ new examples from the same distribution as the training data. \n",
    "\n",
    "\n",
    "- Write some code that computes approximate generalization errors for $100$ independent concepts $c$ and associated training sets of size $m$, and returns the worst-case generalization error at the confidence level $1-\\delta$.  One way to do this in the case that say $\\delta = 0.05$, is to report the $95^\\textrm{th}$ percentile of the $100$ samples of the generalization error. We can then say that, in our simulation, $100(1-\\delta)\\%$ of our observed generalization errors were less than our computed value. (**Bonus**: If your code is efficient, try increasing the number of runs in the simulation to $500$. This should give you a better approximation of the generalization error.) "
   ]
  },
  {
   "cell_type": "markdown",
   "metadata": {},
   "source": [
    "**Answer**\n",
    "\n",
    "The code below has the solutions to the problems in Part A"
   ]
  },
  {
   "cell_type": "code",
   "execution_count": 200,
   "metadata": {
    "collapsed": true
   },
   "outputs": [],
   "source": [
    "def generate_concept(lower_limit, upper_limit):\n",
    "    a = random.uniform(lower_limit, upper_limit)\n",
    "    b = random.uniform(a, upper_limit)\n",
    "    c = random.uniform(lower_limit, upper_limit)\n",
    "    d = random.uniform(c, upper_limit)\n",
    "    return a,b,c,d"
   ]
  },
  {
   "cell_type": "code",
   "execution_count": 201,
   "metadata": {
    "collapsed": true
   },
   "outputs": [],
   "source": [
    "def classify(input_data,a,b,c,d):\n",
    "    classification = {}\n",
    "    classification[\"positive\"] = []\n",
    "    classification[\"negative\"] = []\n",
    "    if a==-1:\n",
    "        for v in input_data:\n",
    "            classification[\"negative\"].append(v)\n",
    "    else:\n",
    "        for v in input_data:\n",
    "            if v[0]>=a and v[0]<=b and v[1]>=c and v[1]<=d:\n",
    "                classification[\"positive\"].append(v)\n",
    "            else:\n",
    "                classification[\"negative\"].append(v)\n",
    "    return classification"
   ]
  },
  {
   "cell_type": "code",
   "execution_count": 203,
   "metadata": {},
   "outputs": [],
   "source": [
    "def generate_hypothesis(classification,lower_limit,upper_limit):\n",
    "    max_x = -1\n",
    "    min_x = upper_limit+1\n",
    "    max_y = -1\n",
    "    min_y = upper_limit+1\n",
    "    if len(classification.get(\"positive\")) !=0:\n",
    "        for v in classification.get(\"positive\"):\n",
    "            if v[0]<min_x:\n",
    "                min_x = v[0]\n",
    "            if v[0]>max_x:\n",
    "                max_x = v[0]\n",
    "            if v[1]<min_y:\n",
    "                min_y = v[1]\n",
    "            if v[1]>max_y:\n",
    "                max_y = v[1]\n",
    "        return min_x,max_x,min_y,max_y\n",
    "    else:\n",
    "        return -1,-1,-1,-1"
   ]
  },
  {
   "cell_type": "code",
   "execution_count": 202,
   "metadata": {
    "collapsed": true
   },
   "outputs": [],
   "source": [
    "def generate_data(m,lower_limit, upper_limit):\n",
    "    count=1\n",
    "    training_data = []\n",
    "    while count<=m:\n",
    "        x = random.uniform(lower_limit, upper_limit)\n",
    "        y = random.uniform(lower_limit, upper_limit)\n",
    "        training_data.append([x,y])\n",
    "        count = count+1\n",
    "    return training_data"
   ]
  },
  {
   "cell_type": "code",
   "execution_count": 204,
   "metadata": {
    "collapsed": true
   },
   "outputs": [],
   "source": [
    "def get_generalization_error(true_label,predicted_label):\n",
    "    misclassified = 0\n",
    "    for point in true_label.get(\"positive\"):\n",
    "        if point not in predicted_label.get(\"positive\"):\n",
    "            misclassified = misclassified + 1\n",
    "    for point in true_label.get(\"negative\"):\n",
    "        if point not in predicted_label.get(\"negative\"):\n",
    "            misclassified = misclassified + 1\n",
    "    return (misclassified/(len(true_label.get(\"positive\"))+len(true_label.get(\"negative\"))))"
   ]
  },
  {
   "cell_type": "code",
   "execution_count": 267,
   "metadata": {
    "collapsed": true
   },
   "outputs": [],
   "source": [
    "def get_theoretical_error(m,delta):\n",
    "    theoretical_error=[]\n",
    "    import math\n",
    "    for i in m:\n",
    "        theoretical_error.append((4/i)*math.log(4/delta))\n",
    "    return theoretical_error"
   ]
  },
  {
   "cell_type": "code",
   "execution_count": 224,
   "metadata": {},
   "outputs": [],
   "source": [
    "lower_limit = 1\n",
    "upper_limit = 100\n",
    "\n",
    "train_data = generate_data(100,lower_limit, upper_limit)\n",
    "a,b,c,d = generate_concept(lower_limit, upper_limit)\n",
    "train_label = classify(train_data,a,b,c,d)\n",
    "ha,hb,hc,hd = generate_hypothesis(train_label,lower_limit, upper_limit)\n",
    "\n",
    "test_data = generate_data(1000,lower_limit, upper_limit)\n",
    "true_label = classify(test_data,a,b,c,d)\n",
    "predicted_label = classify(test_data,ha,hb,hc,hd)\n",
    "error = get_generalization_error(true_label,predicted_label)"
   ]
  },
  {
   "cell_type": "code",
   "execution_count": 228,
   "metadata": {},
   "outputs": [
    {
     "data": {
      "text/plain": [
       "<matplotlib.legend.Legend at 0x11dd13908>"
      ]
     },
     "execution_count": 228,
     "metadata": {},
     "output_type": "execute_result"
    },
    {
     "data": {
      "image/png": "[encoded data removed]",
      "text/plain": [
       "<matplotlib.figure.Figure at 0x11d602470>"
      ]
     },
     "metadata": {},
     "output_type": "display_data"
    }
   ],
   "source": [
    "plt.plot([a,a,b,b,a],[c,d,d,c,c],label = \"concept\")\n",
    "plt.plot([ha,ha,hb,hb,ha],[hc,hd,hd,hc,hc],label = \"hypothesis\")\n",
    "\n",
    "for i in range(0,len(train_data)):\n",
    "    if train_data[i] in train_label.get(\"positive\"):\n",
    "        plt.plot(train_data[i][0],train_data[i][1],'bo')\n",
    "    else:\n",
    "        plt.plot(train_data[i][0],train_data[i][1],'ro')\n",
    "plt.xlim([0,120])\n",
    "plt.ylim([0,120])\n",
    "plt.title('scatterplot of training data')\n",
    "plt.xlabel('x')\n",
    "plt.ylabel('y')\n",
    "plt.legend(loc='best')"
   ]
  },
  {
   "cell_type": "markdown",
   "metadata": {},
   "source": [
    "The graph above demonstrates a general hypothesis and concept rectangle created using the training data. The blue points are positive and we see that the hypothesis exactly fits the blue points."
   ]
  },
  {
   "cell_type": "code",
   "execution_count": 398,
   "metadata": {},
   "outputs": [],
   "source": [
    "def printpercentile(delta,errors):\n",
    "    for i in range(1,int(delta+1)):\n",
    "        print(np.percentile(np.array(errors),(100-i)))"
   ]
  },
  {
   "cell_type": "code",
   "execution_count": 400,
   "metadata": {},
   "outputs": [
    {
     "name": "stdout",
     "output_type": "stream",
     "text": [
      "0.009\n",
      "0.009\n",
      "0.008\n",
      "0.005\n",
      "0.004\n",
      "95th Percentile =  0.004\n"
     ]
    }
   ],
   "source": [
    "errors = []\n",
    "i=0\n",
    "while i<101:\n",
    "    a,b,c,d = generate_concept(lower_limit, upper_limit)\n",
    "    train_label = classify(train_data,a,b,c,d)\n",
    "    ha,hb,hc,hd = generate_hypothesis(train_label, lower_limit, upper_limit)\n",
    "\n",
    "    true_label = classify(test_data,a,b,c,d)\n",
    "    predicted_label = classify(test_data,ha,hb,hc,hd)\n",
    "    errors.append(get_generalization_error(true_label,predicted_label))\n",
    "    i=i+1\n",
    "printpercentile(0.05*100,errors)\n",
    "print(\"95th Percentile = \",np.percentile(np.array(errors),95))"
   ]
  },
  {
   "cell_type": "markdown",
   "metadata": {
    "collapsed": true
   },
   "source": [
    "**Part B**: Use your code to estimate the generalization error with confidence parameter $\\delta=0.05$ for training sets of size $m$ where $m = 250, 500, 1000, 1250,$ and $1500$ and the data are comprised of points $(x,y)$ where the $x$- and $y$-values are sampled from the continuous uniform distribution $\\textrm{unif}(0,100)$. Make a **log-log** plot with $m$ on the horizontal axes and $\\epsilon$ on the vertical axis.  Additionally, overlay the theoretical PAC bound on your graph and discuss your results. "
   ]
  },
  {
   "cell_type": "markdown",
   "metadata": {},
   "source": [
    "**Answer**\n",
    "We see that theoretical bound is higher than the experimental one. In addition, the theoretical and experimental bound tend to converge as the value of m keeps increasing."
   ]
  },
  {
   "cell_type": "code",
   "execution_count": 364,
   "metadata": {},
   "outputs": [
    {
     "data": {
      "image/png": "[encoded data removed]",
      "text/plain": [
       "<matplotlib.figure.Figure at 0x11e623fd0>"
      ]
     },
     "metadata": {},
     "output_type": "display_data"
    }
   ],
   "source": [
    "import matplotlib.pyplot as plt\n",
    "errors = []\n",
    "theoretical_errors = []\n",
    "m_values = list(range(250,1600,250))\n",
    "lower_limit = 1\n",
    "upper_limit = 100\n",
    "\n",
    "for m in m_values:\n",
    "    i=0\n",
    "    err = []\n",
    "    while i<500:\n",
    "        a1,b1,c1,d1 = generate_concept(lower_limit, upper_limit)\n",
    "        train_data = generate_data(m,lower_limit, upper_limit)\n",
    "        train_label = classify(train_data,a1,b1,c1,d1)\n",
    "        ha1,hb1,hc1,hd1 = generate_hypothesis(train_label, lower_limit, upper_limit)\n",
    "\n",
    "        true_label = classify(test_data,a1,b1,c1,d1)\n",
    "        predicted_label = classify(test_data,ha1,hb1,hc1,hd1)\n",
    "        err.append(get_generalization_error(true_label,predicted_label))\n",
    "        i=i+1\n",
    "    errors.append(np.percentile(np.array(err),95))\n",
    "        \n",
    "\n",
    "theoretical_errors = get_theoretical_error(m_values,0.05)\n",
    "plt.loglog(m_values,errors,label = \"experimental\")\n",
    "plt.loglog(m_values,theoretical_errors,label = \"theoretical\")\n",
    "plt.title('training size VS generalization error')\n",
    "plt.xlabel('m')\n",
    "plt.ylabel('error')\n",
    "plt.legend(loc='best')\n",
    "plt.show()"
   ]
  },
  {
   "cell_type": "markdown",
   "metadata": {
    "collapsed": true
   },
   "source": [
    "**Part C**: Repeat **Part B** where the data are comprised of points $(x,y)$ where the $x$- and $y$-values are sampled from the normal distribution with mean $\\mu = 50$ and standard deviation $\\sigma = 25$. Again, overlay the theoretical PAC bound on your graph and discuss your results. Do you expect to observe very different results than those observed in **Part B**?  "
   ]
  },
  {
   "cell_type": "markdown",
   "metadata": {},
   "source": [
    "**Answer**\n",
    "\n",
    "* **Uniform Distribution:** Probability of a point occuring in the given range is the same\n",
    "* **Normal Distribution:** Probability depends on the mean and the standard deviation and falls as a normal curve\n",
    "\n",
    "As given in the question with mean = 50 and standard deviation = 25, almost 65% of the points will fall between the lines passing through (75,0), (0,75),(25,0), (0,25). That is (50+25) and (50-25). But in the case of uniform distribution, the points can fall randomly anywhere."
   ]
  },
  {
   "cell_type": "code",
   "execution_count": 365,
   "metadata": {
    "collapsed": true
   },
   "outputs": [],
   "source": [
    "def generate_uniform_data(mu,sigma,m):\n",
    "    training_data = []\n",
    "    x = np.random.normal(mu,sigma,m)\n",
    "    y = np.random.normal(mu,sigma,m)\n",
    "    for i in range(0,m):\n",
    "        training_data.append([x[i],y[i]])\n",
    "    return training_data"
   ]
  },
  {
   "cell_type": "code",
   "execution_count": 366,
   "metadata": {
    "collapsed": true
   },
   "outputs": [],
   "source": [
    "def generate_uniform_concept(mu,sigma):\n",
    "    a = np.random.normal(mu,sigma,1)\n",
    "    b = np.random.normal(mu,sigma,1)\n",
    "    while b<a:\n",
    "        b = np.random.normal(mu,sigma,1)\n",
    "    c = np.random.normal(mu,sigma,1)\n",
    "    d = np.random.normal(mu,sigma,1)\n",
    "    while d<c:\n",
    "        d = np.random.normal(mu,sigma,1)\n",
    "    return a,b,c,d"
   ]
  },
  {
   "cell_type": "code",
   "execution_count": 367,
   "metadata": {
    "collapsed": true
   },
   "outputs": [],
   "source": [
    "def generate_uniform_hypothesis(classification):\n",
    "    max_x = -1\n",
    "    min_x = -1\n",
    "    max_y = -1\n",
    "    min_y = -1\n",
    "    if len(classification.get(\"positive\")) !=0:\n",
    "        max_x = classification.get(\"positive\")[0][0]\n",
    "        min_x = classification.get(\"positive\")[0][0]\n",
    "        max_y = classification.get(\"positive\")[0][1]\n",
    "        min_y = classification.get(\"positive\")[0][1]\n",
    "        for v in classification.get(\"positive\"):\n",
    "            if v[0]<min_x:\n",
    "                min_x = v[0]\n",
    "            if v[0]>max_x:\n",
    "                max_x = v[0]\n",
    "            if v[1]<min_y:\n",
    "                min_y = v[1]\n",
    "            if v[1]>max_y:\n",
    "                max_y = v[1]\n",
    "    return min_x,max_x,min_y,max_y"
   ]
  },
  {
   "cell_type": "code",
   "execution_count": 368,
   "metadata": {
    "collapsed": true
   },
   "outputs": [],
   "source": [
    "def perform_iteration(mu,sigma,m,test_data):\n",
    "    train_data = generate_uniform_data(mu, sigma, m)\n",
    "    a2,b2,c2,d2 = generate_uniform_concept(mu, sigma)\n",
    "    train_label = classify(train_data,a2,b2,c2,d2)\n",
    "    ha2,hb2,hc2,hd2 = generate_uniform_hypothesis(train_label)\n",
    "\n",
    "    true_label = classify(test_data,a2,b2,c2,d2)\n",
    "    predicted_label = classify(test_data,ha2,hb2,hc2,hd2)\n",
    "    error = get_generalization_error(true_label,predicted_label)\n",
    "    return error"
   ]
  },
  {
   "cell_type": "code",
   "execution_count": 369,
   "metadata": {},
   "outputs": [
    {
     "data": {
      "image/png": "[encoded data removed]",
      "text/plain": [
       "<matplotlib.figure.Figure at 0x11e623fd0>"
      ]
     },
     "metadata": {},
     "output_type": "display_data"
    }
   ],
   "source": [
    "mu = 50\n",
    "sigma = 25 \n",
    "test_data = generate_uniform_data(mu, sigma, 1000)\n",
    "uniform_errors = []\n",
    "theoretical_uniform_errors = []\n",
    "m_values = list(range(250,1600,250))\n",
    "\n",
    "for m in m_values:\n",
    "    i=0\n",
    "    uniform_err = []\n",
    "    while i<500:\n",
    "        uniform_err.append(perform_iteration(mu,sigma,m,test_data))\n",
    "        i = i+1\n",
    "    uniform_errors.append(np.percentile(np.array(uniform_err),95))\n",
    "theoretical_uniform_errors = get_theoretical_error(m_values,0.05)\n",
    "plt.loglog(m_values,uniform_errors,label = \"experimental\")\n",
    "plt.loglog(m_values,theoretical_uniform_errors,label = \"theoretical\")\n",
    "plt.title('training size VS generalization error')\n",
    "plt.xlabel('m')\n",
    "plt.ylabel('error')\n",
    "plt.legend(loc='best')\n",
    "plt.show()"
   ]
  }
 ],
 "metadata": {
  "kernelspec": {
   "display_name": "Python 3",
   "language": "python",
   "name": "python3"
  },
  "language_info": {
   "codemirror_mode": {
    "name": "ipython",
    "version": 3
   },
   "file_extension": ".py",
   "mimetype": "text/x-python",
   "name": "python",
   "nbconvert_exporter": "python",
   "pygments_lexer": "ipython3",
   "version": "3.6.3"
  }
 },
 "nbformat": 4,
 "nbformat_minor": 2
}
